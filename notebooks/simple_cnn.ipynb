{
 "nbformat": 4,
 "nbformat_minor": 2,
 "metadata": {
  "colab": {
   "name": "Primera_CNN.ipynb",
   "provenance": [],
   "authorship_tag": "ABX9TyNIGt3c6XHZ0saXVJVz6PaD"
  },
  "kernelspec": {
   "name": "python3",
   "display_name": "Python 3.8.0 64-bit ('tf_2.4': conda)"
  },
  "language_info": {
   "name": "python",
   "version": "3.8.0",
   "mimetype": "text/x-python",
   "codemirror_mode": {
    "name": "ipython",
    "version": 3
   },
   "pygments_lexer": "ipython3",
   "nbconvert_exporter": "python",
   "file_extension": ".py"
  },
  "accelerator": "GPU",
  "interpreter": {
   "hash": "140c20a58f45c7755579a41878d5e3da52b50b097210e9a5f0aa2d3b7330610d"
  }
 },
 "cells": [
  {
   "cell_type": "markdown",
   "source": [
    "# Imports"
   ],
   "metadata": {
    "id": "mdPl3kwuD2AM"
   }
  },
  {
   "cell_type": "code",
   "execution_count": 1,
   "source": [
    "import os\r\n",
    "from sys import path\r\n",
    "path.append('../')\r\n",
    "\r\n",
    "import numpy as np\r\n",
    "\r\n",
    "import tensorflow as tf\r\n",
    "import matplotlib.pyplot as plt\r\n",
    "from tensorflow.keras import models, layers\r\n",
    "from src.dataset import PneumoniaDetectionChallenge"
   ],
   "outputs": [],
   "metadata": {
    "id": "wfcHq8nfBkL4",
    "colab": {
     "base_uri": "https://localhost:8080/",
     "height": 35
    },
    "executionInfo": {
     "status": "ok",
     "timestamp": 1628842224033,
     "user_tz": -120,
     "elapsed": 9,
     "user": {
      "displayName": "Daniel Farré",
      "photoUrl": "",
      "userId": "15597030600762340349"
     }
    },
    "outputId": "93885359-79ef-4c85-e17f-b21337cae9ef"
   }
  },
  {
   "cell_type": "markdown",
   "source": [
    "# Dataset loading for training"
   ],
   "metadata": {
    "id": "ohPUFDesDo2H"
   }
  },
  {
   "cell_type": "code",
   "execution_count": 2,
   "source": [
    "DATASET_PATH = '../datasets/rsna-pneumonia-detection-challenge/'"
   ],
   "outputs": [],
   "metadata": {
    "colab": {
     "base_uri": "https://localhost:8080/"
    },
    "id": "d4Aox-PwMWGz",
    "executionInfo": {
     "status": "ok",
     "timestamp": 1628842259976,
     "user_tz": -120,
     "elapsed": 27819,
     "user": {
      "displayName": "Daniel Farré",
      "photoUrl": "",
      "userId": "15597030600762340349"
     }
    },
    "outputId": "3d28b5f7-d1d1-4e9a-bb75-0597591b5bc2"
   }
  },
  {
   "cell_type": "code",
   "execution_count": 3,
   "source": [
    "pdc = PneumoniaDetectionChallenge(DATASET_PATH)\r\n",
    "x_train, y_train = pdc.load_train_data()"
   ],
   "outputs": [],
   "metadata": {}
  },
  {
   "cell_type": "code",
   "execution_count": 4,
   "source": [
    "x_train = x_train / 255.0"
   ],
   "outputs": [],
   "metadata": {}
  },
  {
   "cell_type": "code",
   "execution_count": 5,
   "source": [
    "x_train = np.repeat(x_train[..., np.newaxis], 3, -1)"
   ],
   "outputs": [],
   "metadata": {}
  },
  {
   "cell_type": "markdown",
   "source": [
    "# Mdel definition"
   ],
   "metadata": {}
  },
  {
   "cell_type": "code",
   "execution_count": 6,
   "source": [
    "model = models.Sequential()\r\n",
    "model.add(layers.Conv2D(32, (3, 3), activation='relu', input_shape=(128, 128, 3)))\r\n",
    "model.add(layers.MaxPooling2D((2, 2)))\r\n",
    "model.add(layers.Conv2D(64, (3, 3), activation='relu'))\r\n",
    "model.add(layers.MaxPooling2D((2, 2)))\r\n",
    "model.add(layers.Conv2D(64, (3, 3), activation='relu'))\r\n",
    "\r\n",
    "model.summary()"
   ],
   "outputs": [
    {
     "output_type": "stream",
     "name": "stdout",
     "text": [
      "Model: \"sequential\"\n",
      "_________________________________________________________________\n",
      "Layer (type)                 Output Shape              Param #   \n",
      "=================================================================\n",
      "conv2d (Conv2D)              (None, 126, 126, 32)      896       \n",
      "_________________________________________________________________\n",
      "max_pooling2d (MaxPooling2D) (None, 63, 63, 32)        0         \n",
      "_________________________________________________________________\n",
      "conv2d_1 (Conv2D)            (None, 61, 61, 64)        18496     \n",
      "_________________________________________________________________\n",
      "max_pooling2d_1 (MaxPooling2 (None, 30, 30, 64)        0         \n",
      "_________________________________________________________________\n",
      "conv2d_2 (Conv2D)            (None, 28, 28, 64)        36928     \n",
      "=================================================================\n",
      "Total params: 56,320\n",
      "Trainable params: 56,320\n",
      "Non-trainable params: 0\n",
      "_________________________________________________________________\n"
     ]
    }
   ],
   "metadata": {}
  },
  {
   "cell_type": "code",
   "execution_count": 7,
   "source": [
    "model.add(layers.Flatten())\r\n",
    "model.add(layers.Dense(64, activation='relu'))\r\n",
    "model.add(layers.Dense(10))\r\n",
    "\r\n",
    "model.summary()"
   ],
   "outputs": [
    {
     "output_type": "stream",
     "name": "stdout",
     "text": [
      "Model: \"sequential\"\n",
      "_________________________________________________________________\n",
      "Layer (type)                 Output Shape              Param #   \n",
      "=================================================================\n",
      "conv2d (Conv2D)              (None, 126, 126, 32)      896       \n",
      "_________________________________________________________________\n",
      "max_pooling2d (MaxPooling2D) (None, 63, 63, 32)        0         \n",
      "_________________________________________________________________\n",
      "conv2d_1 (Conv2D)            (None, 61, 61, 64)        18496     \n",
      "_________________________________________________________________\n",
      "max_pooling2d_1 (MaxPooling2 (None, 30, 30, 64)        0         \n",
      "_________________________________________________________________\n",
      "conv2d_2 (Conv2D)            (None, 28, 28, 64)        36928     \n",
      "_________________________________________________________________\n",
      "flatten (Flatten)            (None, 50176)             0         \n",
      "_________________________________________________________________\n",
      "dense (Dense)                (None, 64)                3211328   \n",
      "_________________________________________________________________\n",
      "dense_1 (Dense)              (None, 10)                650       \n",
      "=================================================================\n",
      "Total params: 3,268,298\n",
      "Trainable params: 3,268,298\n",
      "Non-trainable params: 0\n",
      "_________________________________________________________________\n"
     ]
    }
   ],
   "metadata": {}
  },
  {
   "cell_type": "code",
   "execution_count": 8,
   "source": [
    "model.compile(optimizer='adam',\r\n",
    "              loss=\"sparse_categorical_crossentropy\",\r\n",
    "              metrics=[\"accuracy\"])"
   ],
   "outputs": [],
   "metadata": {}
  },
  {
   "cell_type": "markdown",
   "source": [
    "# Model training"
   ],
   "metadata": {}
  },
  {
   "cell_type": "code",
   "execution_count": 9,
   "source": [
    "history = model.fit(x_train, y_train, epochs=15)"
   ],
   "outputs": [
    {
     "output_type": "stream",
     "name": "stdout",
     "text": [
      "Epoch 1/15\n",
      "626/626 [==============================] - 13s 11ms/step - loss: 2.1883 - accuracy: 0.8604\n",
      "Epoch 2/15\n",
      "626/626 [==============================] - 7s 11ms/step - loss: 1.9952 - accuracy: 0.8762\n",
      "Epoch 3/15\n",
      "626/626 [==============================] - 7s 11ms/step - loss: 1.9891 - accuracy: 0.8766\n",
      "Epoch 4/15\n",
      "626/626 [==============================] - 7s 11ms/step - loss: 1.9614 - accuracy: 0.8783\n",
      "Epoch 5/15\n",
      "626/626 [==============================] - 7s 11ms/step - loss: 2.0632 - accuracy: 0.8720\n",
      "Epoch 6/15\n",
      "626/626 [==============================] - 7s 11ms/step - loss: 2.0635 - accuracy: 0.8720\n",
      "Epoch 7/15\n",
      "626/626 [==============================] - 7s 11ms/step - loss: 2.1116 - accuracy: 0.8690\n",
      "Epoch 8/15\n",
      "626/626 [==============================] - 7s 11ms/step - loss: 2.0498 - accuracy: 0.8728\n",
      "Epoch 9/15\n",
      "626/626 [==============================] - 7s 11ms/step - loss: 1.9915 - accuracy: 0.8764\n",
      "Epoch 10/15\n",
      "626/626 [==============================] - 7s 11ms/step - loss: 2.0672 - accuracy: 0.8717\n",
      "Epoch 11/15\n",
      "626/626 [==============================] - 7s 11ms/step - loss: 1.9755 - accuracy: 0.8774\n",
      "Epoch 12/15\n",
      "626/626 [==============================] - 7s 11ms/step - loss: 2.0884 - accuracy: 0.8704\n",
      "Epoch 13/15\n",
      "626/626 [==============================] - 7s 11ms/step - loss: 2.0326 - accuracy: 0.8739\n",
      "Epoch 14/15\n",
      "626/626 [==============================] - 7s 11ms/step - loss: 2.0272 - accuracy: 0.8742\n",
      "Epoch 15/15\n",
      "626/626 [==============================] - 7s 11ms/step - loss: 2.0622 - accuracy: 0.8721\n"
     ]
    }
   ],
   "metadata": {}
  },
  {
   "cell_type": "code",
   "execution_count": 10,
   "source": [
    "del x_train\r\n",
    "del y_train"
   ],
   "outputs": [],
   "metadata": {}
  },
  {
   "cell_type": "markdown",
   "source": [
    "# Evaluating the model"
   ],
   "metadata": {}
  },
  {
   "cell_type": "code",
   "execution_count": 11,
   "source": [
    "x_test, y_test = pdc.load_test_data()"
   ],
   "outputs": [],
   "metadata": {}
  },
  {
   "cell_type": "code",
   "execution_count": 12,
   "source": [
    "x_test = x_test / 255.0"
   ],
   "outputs": [],
   "metadata": {}
  },
  {
   "cell_type": "code",
   "execution_count": 13,
   "source": [
    "x_test = np.repeat(x_test[..., np.newaxis], 3, -1)"
   ],
   "outputs": [],
   "metadata": {}
  },
  {
   "cell_type": "code",
   "execution_count": 14,
   "source": [
    "test_loss, test_accuracy = model.evaluate(x_test, y_test)"
   ],
   "outputs": [
    {
     "output_type": "stream",
     "name": "stdout",
     "text": [
      "209/209 [==============================] - 1s 5ms/step - loss: 2.1141 - accuracy: 0.8688\n"
     ]
    }
   ],
   "metadata": {}
  }
 ]
}